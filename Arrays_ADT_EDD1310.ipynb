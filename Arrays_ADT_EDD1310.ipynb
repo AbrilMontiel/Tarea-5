{
  "nbformat": 4,
  "nbformat_minor": 0,
  "metadata": {
    "colab": {
      "name": "Arrays.ADT.EDD1310.ipynb",
      "provenance": [],
      "authorship_tag": "ABX9TyNvC536sOxlL8mSlYHmC60b",
      "include_colab_link": true
    },
    "kernelspec": {
      "name": "python3",
      "display_name": "Python 3"
    },
    "language_info": {
      "name": "python"
    }
  },
  "cells": [
    {
      "cell_type": "markdown",
      "metadata": {
        "id": "view-in-github",
        "colab_type": "text"
      },
      "source": [
        "<a href=\"https://colab.research.google.com/github/AbrilMontiel/Tarea-5/blob/master/Arrays_ADT_EDD1310.ipynb\" target=\"_parent\"><img src=\"https://colab.research.google.com/assets/colab-badge.svg\" alt=\"Open In Colab\"/></a>"
      ]
    },
    {
      "cell_type": "code",
      "metadata": {
        "colab": {
          "base_uri": "https://localhost:8080/"
        },
        "id": "5dDTV9rgfja9",
        "outputId": "128f0b62-ba71-4d17-c391-9a08f675d8ef"
      },
      "source": [
        "class Array:\n",
        "  def __init__( self, tam ):\n",
        "    self.__tamanio = tam\n",
        "    self.__data = [ 0 for x in range( self.__tamanio) ]\n",
        "\n",
        "  def to_string( self ):\n",
        "    info = \"\"\n",
        "    for dato in self.__data:\n",
        "      info = info + str(dato) + \"|\"\n",
        "    return info\n",
        "\n",
        "  def get_item( self, index):\n",
        "    return self.__data[index]\n",
        "\n",
        "  def get_length( self ):\n",
        "    return len( self.__data)\n",
        "\n",
        "  def set_item( self ,dato, index):\n",
        "    if index >= 0 and index < self.get_length():\n",
        "     self.__data[index] = dato\n",
        "    else:\n",
        "      print(\"Error: indice fuera de rango\")\n",
        "\n",
        "  def clear( self, dato):\n",
        "    self.__data = [ dato for x in range( self.__tamanio) ]\n",
        "\n",
        "\n",
        "\n",
        "ejemplo = Array(20)\n",
        "print( ejemplo.to_string() )\n",
        "print( ejemplo.get_item(2) )\n",
        "print( ejemplo.get_item(2), ejemplo.get_item(3)  )\n",
        "ejemplo.set_item( 45, 2)\n",
        "print( ejemplo.to_string() )\n",
        "ejemplo.clear(4)\n",
        "print( ejemplo.to_string() )\n",
        "print(ejemplo.get_length() )\n",
        "\n"
      ],
      "execution_count": 31,
      "outputs": [
        {
          "output_type": "stream",
          "name": "stdout",
          "text": [
            "0|0|0|0|0|0|0|0|0|0|0|0|0|0|0|0|0|0|0|0|\n",
            "0\n",
            "0 0\n",
            "0|0|45|0|0|0|0|0|0|0|0|0|0|0|0|0|0|0|0|0|\n",
            "4|4|4|4|4|4|4|4|4|4|4|4|4|4|4|4|4|4|4|4|\n",
            "20\n"
          ]
        }
      ]
    },
    {
      "cell_type": "code",
      "metadata": {
        "colab": {
          "base_uri": "https://localhost:8080/"
        },
        "id": "_9jlyKuLgfu4",
        "outputId": "252f57e9-eef3-4aee-a1dc-a0667a293f6c"
      },
      "source": [
        "lista = [ 3 * x for x in range(5) ]\n",
        "print(lista)"
      ],
      "execution_count": null,
      "outputs": [
        {
          "output_type": "stream",
          "name": "stdout",
          "text": [
            "[0, 3, 6, 9, 12]\n"
          ]
        }
      ]
    },
    {
      "cell_type": "code",
      "metadata": {
        "colab": {
          "base_uri": "https://localhost:8080/"
        },
        "id": "vZy7OYMwmIrB",
        "outputId": "7f7f1808-ed99-4b2d-9410-32a2cc98f6f9"
      },
      "source": [
        " !cat junio.dat"
      ],
      "execution_count": 28,
      "outputs": [
        {
          "output_type": "stream",
          "name": "stdout",
          "text": [
            "numero de trabajador, nombres, paterno, materno, horas extra, sueldo base, año de ingreso\r\n",
            "2345,CARLOS,PEREZ,CASTILLO,0,9850,2017\r\n",
            "5754,ANGEL,GOMEZ,GARRIDO,1,9850,2020\r\n",
            "5345,JESUS,MARTIN,SANTOS,2,9850,2016\r\n",
            "3267,DAVID,JIMENEZ,LOZANO,2,9850,2017\r\n",
            "8765,PEDRO,RUIZ,GUERRERO,2,9850,2017\r\n",
            "5454,DANIEL,HERNANDEZ,CANO,3,9850,2018\r\n",
            "3456,ALEJANDRO,DIAZ,PRIETO,2,9850,2018\r\n",
            "3445,MARIA,MORENO,MENDEZ,1,9850,2018\r\n",
            "9088,ALBERTO,MU�OZ,CRUZ,1,9850,2017\r\n",
            "8877,RAFAEL,ALVAREZ,FLORES,2,9850,2017\r\n",
            "6767,FERNANDO,ROMERO,HERRERA,4,9850,2019\r\n",
            "5654,PABLO,ALONSO,GALLEGO,1,9850,2019\r\n",
            "4323,JORGE,GUTIERREZ,MARQUEZ,2,9850,2020\r\n",
            "2232,RAMON,NAVARRO,LEON,1,9850,2016"
          ]
        }
      ]
    },
    {
      "cell_type": "code",
      "metadata": {
        "colab": {
          "base_uri": "https://localhost:8080/"
        },
        "id": "sw09tI2HnBKR",
        "outputId": "132efc6e-d669-4737-968a-d48ee3719518"
      },
      "source": [
        "archivo = open('junio.dat', 'rt' , encoding= 'latin-1')\n",
        "print(archivo.read())\n"
      ],
      "execution_count": 29,
      "outputs": [
        {
          "output_type": "stream",
          "name": "stdout",
          "text": [
            "numero de trabajador, nombres, paterno, materno, horas extra, sueldo base, aÃ±o de ingreso\n",
            "2345,CARLOS,PEREZ,CASTILLO,0,9850,2017\n",
            "5754,ANGEL,GOMEZ,GARRIDO,1,9850,2020\n",
            "5345,JESUS,MARTIN,SANTOS,2,9850,2016\n",
            "3267,DAVID,JIMENEZ,LOZANO,2,9850,2017\n",
            "8765,PEDRO,RUIZ,GUERRERO,2,9850,2017\n",
            "5454,DANIEL,HERNANDEZ,CANO,3,9850,2018\n",
            "3456,ALEJANDRO,DIAZ,PRIETO,2,9850,2018\n",
            "3445,MARIA,MORENO,MENDEZ,1,9850,2018\n",
            "9088,ALBERTO,MUOZ,CRUZ,1,9850,2017\n",
            "8877,RAFAEL,ALVAREZ,FLORES,2,9850,2017\n",
            "6767,FERNANDO,ROMERO,HERRERA,4,9850,2019\n",
            "5654,PABLO,ALONSO,GALLEGO,1,9850,2019\n",
            "4323,JORGE,GUTIERREZ,MARQUEZ,2,9850,2020\n",
            "2232,RAMON,NAVARRO,LEON,1,9850,2016\n"
          ]
        }
      ]
    },
    {
      "cell_type": "code",
      "metadata": {
        "id": "0Y2k1nB0n5Lo",
        "colab": {
          "base_uri": "https://localhost:8080/"
        },
        "outputId": "b2f5ff27-94c5-4f77-886e-e50d1fdbda92"
      },
      "source": [
        "class Trabajador:\n",
        "  def __init__( self, nt, nom, pat, mat, he, sb, ai ):\n",
        "    self.__numero_trabajador = nt\n",
        "    self.__nombres = nom\n",
        "    self.__paterno = pat\n",
        "    self.__materno = mat\n",
        "    self.__horas_extra =he\n",
        "    self.__sueldo_base = sb\n",
        "    self.__anio_ingreso = ai\n",
        "\n",
        "    #Asi para todos los atributos\n",
        "  #Aqui van todos los metodos de acceso\n",
        "\n",
        "  def set_numero_trabajador( self, nt):\n",
        "    self.__numero_trabajador = nt\n",
        "\n",
        "  def get_numero_trabajador( self ):\n",
        "    return self.__numero_trabajador\n",
        "\n",
        "  def set_nombres( self, nom ):\n",
        "    self.__nombres = nom\n",
        "\n",
        "  def get_nombres( self ):\n",
        "    return self.__nombres\n",
        "\n",
        "  def set_paterno( self, pat ):\n",
        "    self.__paterno = pat\n",
        "\n",
        "  def get_paterno( self ):\n",
        "    return self.__paterno\n",
        "\n",
        "  def set_materno( self, mat ):\n",
        "    self.__materno = mat\n",
        "\n",
        "  def get_materno( self ):\n",
        "    return self.__materno\n",
        "\n",
        "  def set_horas_extra( self, he ):\n",
        "    self.__horas_extra = he\n",
        "\n",
        "  def get_horas_extra( self ):\n",
        "    return self.__horas_extra\n",
        "\n",
        "  def set_sueldo_base( self, sb ):\n",
        "    self.__sueldo_base = sb\n",
        "\n",
        "  def get_sueldo_base( self ):\n",
        "    return self.__sueldo_base\n",
        "\n",
        "  def set_anio_ingreso( self, ai ):\n",
        "    self.__anio_ingreso = ai  \n",
        "\n",
        "  def get_anio_ingreso( self ):\n",
        "    return self.__anio_ingreso\n",
        "\n",
        "  #Metodos de uso gral. --> metodos que hacen calculos de la logica\n",
        "  \n",
        "  def calcular_sueldo_mensual( self ):\n",
        "    anios = 2021 - self.get_anio_ingreso()\n",
        "\n",
        "    sueldo = self.get_sueldo_base()\n",
        "    #agregarle las horas extra\n",
        "    sueldo += self.get_horas_extra() * 276.5\n",
        "    #agragarle las prestaciones por antiguedad\n",
        "    sueldo = sueldo + ( sueldo * anios * 0.03 )\n",
        "    return sueldo\n",
        "\n",
        "  def to_string( self ):\n",
        "    return \"Nombre: \" + self.__nombres + \" Sueldo: $\" + str(self.calcular_sueldo_mensual()) + \" Antiguedad: \" + str(self.antiguedad())\n",
        "\n",
        "  def calcular_antiguedad( self ):\n",
        "    antiguedad = 2021 - self.get_anio_ingreso()\n",
        "    return antiguedad\n",
        "     \n",
        "  def antiguedad( self ):\n",
        "    if self.calcular_antiguedad == 1:\n",
        "      print(\"Menor antiguedad\" + self.calcular_antiguedad ) \n",
        "    elif self.calcular_antiguedad == 5:\n",
        "      print(\"Mayor antiguedad\" + self.calcular_antiguedad ) \n",
        "    else: \n",
        "      return self.calcular_antiguedad()\n",
        "\n",
        "\n",
        "emp = Trabajador( 2345,'CARLOS','PEREZ','CASTILLO',1,9850,2017 )\n",
        "print(emp.get_sueldo_base())\n",
        "print(emp.get_horas_extra())\n",
        "print(emp.calcular_antiguedad())\n",
        "print(emp.to_string())\n",
        "\n",
        "\n",
        "\n"
      ],
      "execution_count": 231,
      "outputs": [
        {
          "output_type": "stream",
          "name": "stdout",
          "text": [
            "9850\n",
            "1\n",
            "4\n",
            "Nombre: CARLOS Sueldo: $11341.68 Antiguedad: 4\n"
          ]
        }
      ]
    },
    {
      "cell_type": "code",
      "metadata": {
        "id": "TrF0J2XBqCcZ",
        "colab": {
          "base_uri": "https://localhost:8080/"
        },
        "outputId": "cf2fd892-9cc6-4feb-d537-8f439bc4ff63"
      },
      "source": [
        "class NominaADT:\n",
        "  def __init__( self, ruta_archivo ):\n",
        "    #Abrir el archivo y determinar el numero de empleados ---> num_emp\n",
        "    archivo = open(ruta_archivo, 'rt' , encoding= 'latin-1')\n",
        "    empleados = archivo.readlines()\n",
        "    del empleados[0]\n",
        "    for index in range(len(empleados)):\n",
        "      empleados[index] = empleados[index].strip().split(',')\n",
        "    self.__data = Array ( len(empleados))\n",
        "    cont = 0 \n",
        "    for emp in empleados:\n",
        "      tmp = Trabajador( int(emp[0]), emp[1], emp[2], emp[3], int(emp[4]), int(emp[5]), int(emp[6]))\n",
        "      self.__data.set_item( tmp, cont)\n",
        "      cont += 1\n",
        "\n",
        "  def calcular_sueldos( self ):\n",
        "    #iterar sobre el Array y hacer el calculo de sueldos\n",
        "      pass\n",
        "  def buscar_mas_antiguo( self ):\n",
        "    #iterar y buscar en el Array el de mayor atntiguedad en el puesto\n",
        "      pass\n",
        " \n",
        "  def buscar_menor_antiguedad( self ):\n",
        "      pass\n",
        "\n",
        "     \n",
        "  def print_empleados( self ):\n",
        "    for index in range( self.__data.get_length() ):\n",
        "      print( self.__data.get_item(index).to_string() )\n",
        "  \n",
        "\n",
        "\n",
        "ejemplo = NominaADT('junio.dat')\n",
        "ejemplo.print_empleados()\n"
      ],
      "execution_count": 232,
      "outputs": [
        {
          "output_type": "stream",
          "name": "stdout",
          "text": [
            "Nombre: CARLOS Sueldo: $11032.0 Antiguedad: 4\n",
            "Nombre: ANGEL Sueldo: $10430.295 Antiguedad: 1\n",
            "Nombre: JESUS Sueldo: $11963.45 Antiguedad: 5\n",
            "Nombre: DAVID Sueldo: $11651.36 Antiguedad: 4\n",
            "Nombre: PEDRO Sueldo: $11651.36 Antiguedad: 4\n",
            "Nombre: DANIEL Sueldo: $11640.655 Antiguedad: 3\n",
            "Nombre: ALEJANDRO Sueldo: $11339.27 Antiguedad: 3\n",
            "Nombre: MARIA Sueldo: $11037.885 Antiguedad: 3\n",
            "Nombre: ALBERTO Sueldo: $11341.68 Antiguedad: 4\n",
            "Nombre: RAFAEL Sueldo: $11651.36 Antiguedad: 4\n",
            "Nombre: FERNANDO Sueldo: $11613.36 Antiguedad: 2\n",
            "Nombre: PABLO Sueldo: $10734.09 Antiguedad: 2\n",
            "Nombre: JORGE Sueldo: $10715.09 Antiguedad: 1\n",
            "Nombre: RAMON Sueldo: $11645.475 Antiguedad: 5\n"
          ]
        }
      ]
    },
    {
      "cell_type": "code",
      "metadata": {
        "colab": {
          "base_uri": "https://localhost:8080/"
        },
        "id": "0c49hYovr5Mu",
        "outputId": "57c43374-0ce8-4a66-d2e9-dd405334d91f"
      },
      "source": [
        "#Ejemplo de como calcular las prestaciones\n",
        "sueldo_base = 100\n",
        "anio = 2019\n",
        "anti = 2\n",
        "prestacion = 100*( 2*0.03 )\n",
        "print(sueldo_base + prestacion)"
      ],
      "execution_count": null,
      "outputs": [
        {
          "output_type": "stream",
          "name": "stdout",
          "text": [
            "106.0\n"
          ]
        }
      ]
    },
    {
      "cell_type": "code",
      "metadata": {
        "colab": {
          "base_uri": "https://localhost:8080/"
        },
        "id": "CbnlgboCWr5R",
        "outputId": "daf1925c-24a2-4b8b-dcdf-25a4d363c46a"
      },
      "source": [
        "contador = 1\n",
        "print( contador )\n",
        "contador += 9 #contador = contador + 1\n",
        "print( contador )"
      ],
      "execution_count": 1,
      "outputs": [
        {
          "output_type": "stream",
          "name": "stdout",
          "text": [
            "1\n",
            "10\n"
          ]
        }
      ]
    }
  ]
}